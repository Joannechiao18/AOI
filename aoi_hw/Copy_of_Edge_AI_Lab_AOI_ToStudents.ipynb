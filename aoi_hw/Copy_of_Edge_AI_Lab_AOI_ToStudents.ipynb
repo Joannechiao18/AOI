{
  "cells": [
    {
      "cell_type": "markdown",
      "source": [
        "#掛載雲端"
      ],
      "metadata": {
        "id": "ASmYH2NjNVUR"
      }
    },
    {
      "cell_type": "code",
      "source": [
        "from google.colab import drive\n",
        "drive.mount('/content/drive')"
      ],
      "metadata": {
        "id": "J9VzTqLaNAz4",
        "colab": {
          "base_uri": "https://localhost:8080/"
        },
        "outputId": "d66cb686-41c8-4bd8-ceeb-85e8519c7905"
      },
      "execution_count": 1,
      "outputs": [
        {
          "output_type": "stream",
          "name": "stdout",
          "text": [
            "Drive already mounted at /content/drive; to attempt to forcibly remount, call drive.mount(\"/content/drive\", force_remount=True).\n"
          ]
        }
      ]
    },
    {
      "cell_type": "markdown",
      "metadata": {
        "id": "vpVBkLKwM-1e"
      },
      "source": [
        "# 載入 AOI瑕疵檢測 資料集"
      ]
    },
    {
      "cell_type": "code",
      "source": [
        "#將壓縮檔複製到/content\n",
        "! cp  \"/content/drive/MyDrive/AIdea_AOI/train_images.zip\" /content/"
      ],
      "metadata": {
        "id": "WyiL1aJpOIro"
      },
      "execution_count": 2,
      "outputs": []
    },
    {
      "cell_type": "code",
      "source": [
        "#解壓縮訓練集\n",
        "! unzip /content/train_images > data_unzip.log"
      ],
      "metadata": {
        "id": "qqDhZv7aOUbJ",
        "colab": {
          "base_uri": "https://localhost:8080/"
        },
        "outputId": "2e77def5-4637-4ddf-e8e1-ebc41c2e182e"
      },
      "execution_count": 3,
      "outputs": [
        {
          "output_type": "stream",
          "name": "stdout",
          "text": [
            "replace train_images/train_00000.png? [y]es, [n]o, [A]ll, [N]one, [r]ename: n\n",
            "replace train_images/train_00001.png? [y]es, [n]o, [A]ll, [N]one, [r]ename: A\n"
          ]
        }
      ]
    },
    {
      "cell_type": "code",
      "source": [
        "#read csv\n",
        "import pandas as pd\n",
        "AOI_data = pd.read_csv('/content/drive/MyDrive/AIdea_AOI/train.csv')"
      ],
      "metadata": {
        "id": "WeQbgKOYO3KA"
      },
      "execution_count": 4,
      "outputs": []
    },
    {
      "cell_type": "code",
      "source": [
        "#查看訓練集每類別圖片數量並且分類\n",
        "label = []\n",
        "for i in range(6):\n",
        "  #請輸入程式碼\n",
        "  temp = AOI_data[AOI_data['Label']==i]\n",
        "  label.append(temp.reset_index())\n",
        "  print('第'+str(i)+'類張數'+str(len(label[i])))"
      ],
      "metadata": {
        "id": "2I84Y6VpPo0T",
        "colab": {
          "base_uri": "https://localhost:8080/"
        },
        "outputId": "bc633e79-5df6-4f6c-8de5-3a5a7715f5e0"
      },
      "execution_count": 5,
      "outputs": [
        {
          "output_type": "stream",
          "name": "stdout",
          "text": [
            "第0類張數674\n",
            "第1類張數492\n",
            "第2類張數100\n",
            "第3類張數378\n",
            "第4類張數240\n",
            "第5類張數644\n"
          ]
        }
      ]
    },
    {
      "cell_type": "code",
      "source": [
        "import numpy as np\n",
        "def add_light(image, gamma=1.0):\n",
        "    invGamma = 1.0 / gamma\n",
        "    table = np.array([((i / 255.0) ** invGamma) * 255\n",
        "                      for i in np.arange(0, 256)]).astype(\"uint8\")\n",
        "\n",
        "    image=cv2.LUT(image, table)\n",
        "    return image"
      ],
      "metadata": {
        "id": "tUvf0qT2MX9E"
      },
      "execution_count": 6,
      "outputs": []
    },
    {
      "cell_type": "code",
      "source": [
        "def invert_image(image,channel):\n",
        "    # image=cv2.bitwise_not(image)\n",
        "    image=(channel-image)\n",
        "    return image"
      ],
      "metadata": {
        "id": "R87MkX1ti1tw"
      },
      "execution_count": 7,
      "outputs": []
    },
    {
      "cell_type": "code",
      "source": [
        "def flip_image(image,dir):\n",
        "    image = cv2.flip(image, dir)\n",
        "    return image"
      ],
      "metadata": {
        "id": "aK-PeTodjgbS"
      },
      "execution_count": 8,
      "outputs": []
    },
    {
      "cell_type": "code",
      "source": [
        "from sys import last_traceback\n",
        "import cv2\n",
        "import random \n",
        "\n",
        "train_images = []\n",
        "train_label = []\n",
        "test_images = []\n",
        "test_label = []\n",
        "for i in range(6):\n",
        "  #讀取圖片測試集圖片(這邊的程式碼不可更動)\n",
        "  images_temp = []\n",
        "  label_temp = [i] * 20\n",
        "  for j in range(20):\n",
        "    img = cv2.imread('/content/train_images/'+label[i]['ID'][j])\n",
        "    images_temp.append(cv2.resize(img,(224,224), cv2.INTER_AREA))\n",
        "  test_images += images_temp\n",
        "  test_label += label_temp\n",
        "\n",
        "  #將剩餘圖片進行增量，使訓練集每類張數相同\n",
        "  #請輸入程式碼\n",
        "  images_temp = []\n",
        "  add = []\n",
        "  label_temp = [i] * 700\n",
        "  \n",
        "  for j in range(20, len(label[i])):\n",
        "    img = cv2.imread('/content/train_images/'+label[i]['ID'][j])\n",
        "    images_temp.append(cv2.resize(img,(224,224), cv2.INTER_AREA))\n",
        "  \n",
        "  count = 0\n",
        "  last = 700-len(images_temp)\n",
        "\n",
        "  if (len(images_temp)<last):\n",
        "    while(len(add)<last):\n",
        "      k = 0\n",
        "      while(k < len(images_temp)):\n",
        "        if (len(add)<last):\n",
        "          img = cv2.imread('/content/train_images/'+label[i]['ID'][k])\n",
        "          img = cv2.resize(img,(224,224), cv2.INTER_AREA)\n",
        "          choice = random.randint(0, 2)\n",
        "          if (choice == 0):\n",
        "            added = add_light(img, 1.5)\n",
        "          elif (choice == 1):\n",
        "            added = invert_image(img, 150)\n",
        "          else: \n",
        "            added = flip_image(img, 1)#vertical\n",
        "          add.append(added)\n",
        "          k+=1\n",
        "        else:\n",
        "          break\n",
        "  else:\n",
        "    for k in range(0, last):\n",
        "      img = cv2.imread('/content/train_images/'+label[i]['ID'][k])\n",
        "      img = cv2.resize(img,(224,224), cv2.INTER_AREA)\n",
        "      choice = random.randint(0, 2)\n",
        "      if (choice == 0):\n",
        "          added = add_light(img, 1.5)\n",
        "      elif (choice == 1):\n",
        "          added = invert_image(img, 200)\n",
        "      else: \n",
        "          added = flip_image(img, -1)#vertical\n",
        "      add.append(added)\n",
        "  \n",
        "  #print(len(add))\n",
        "\n",
        "  train_images += images_temp\n",
        "  train_images += add\n",
        "  train_label += label_temp"
      ],
      "metadata": {
        "id": "Iy_Gd9KrH4rx"
      },
      "execution_count": 10,
      "outputs": []
    },
    {
      "cell_type": "code",
      "source": [
        "#將 list 轉成 array\n",
        "import numpy as np\n",
        "from sklearn.utils import shuffle\n",
        "x_train = np.array(train_images)\n",
        "x_test = np.array(test_images)\n",
        "y_train = np.array(train_label)\n",
        "y_test = np.array(test_label)"
      ],
      "metadata": {
        "id": "t4uRn7r6VTXP"
      },
      "execution_count": 11,
      "outputs": []
    },
    {
      "cell_type": "code",
      "source": [
        "#將訓練集進行shuffle\n",
        "import random\n",
        "#請輸入程式碼\n",
        "x_train, y_train = shuffle(x_train, y_train, random_state=random.seed())"
      ],
      "metadata": {
        "id": "1OX-Ue9-ZLj-"
      },
      "execution_count": 12,
      "outputs": []
    },
    {
      "cell_type": "markdown",
      "metadata": {
        "id": "wNTFw5ZNM-1l"
      },
      "source": [
        "# 查看資料的 shape"
      ]
    },
    {
      "cell_type": "code",
      "execution_count": 13,
      "metadata": {
        "scrolled": false,
        "id": "KwVAQPenM-1m",
        "outputId": "9d287ddd-fc5c-462c-be1c-1facaf523a1c",
        "colab": {
          "base_uri": "https://localhost:8080/"
        }
      },
      "outputs": [
        {
          "output_type": "stream",
          "name": "stdout",
          "text": [
            "x_train shape:  (4200, 224, 224, 3)\n",
            "x_test shape:  (120, 224, 224, 3)\n"
          ]
        }
      ],
      "source": [
        "print('x_train shape: ', x_train.shape)\n",
        "print('x_test shape: ', x_test.shape)"
      ]
    },
    {
      "cell_type": "markdown",
      "metadata": {
        "id": "7XZfyWylM-1n"
      },
      "source": [
        "# 查看標籤的 shape"
      ]
    },
    {
      "cell_type": "code",
      "execution_count": 14,
      "metadata": {
        "id": "cq8uhh4ZM-1n",
        "outputId": "7865e24f-efb7-447e-80f3-994001e12012",
        "colab": {
          "base_uri": "https://localhost:8080/"
        }
      },
      "outputs": [
        {
          "output_type": "stream",
          "name": "stdout",
          "text": [
            "y_train shape: (4200,)\n",
            "y_test shape: (120,)\n"
          ]
        }
      ],
      "source": [
        "print('y_train shape:',y_train.shape)\n",
        "print('y_test shape:', y_test.shape)"
      ]
    },
    {
      "cell_type": "markdown",
      "metadata": {
        "id": "Rj3KV7MxM-1o"
      },
      "source": [
        "# 查看標籤的內容 "
      ]
    },
    {
      "cell_type": "code",
      "execution_count": 15,
      "metadata": {
        "id": "VlveWx-IM-1p",
        "outputId": "c74e68e8-7c0f-4b94-f204-f789dbd2711b",
        "colab": {
          "base_uri": "https://localhost:8080/"
        }
      },
      "outputs": [
        {
          "output_type": "stream",
          "name": "stdout",
          "text": [
            "[1 0 1 5 2 3 0 4 0 2]\n"
          ]
        }
      ],
      "source": [
        "print(y_train[0:10])"
      ]
    },
    {
      "cell_type": "markdown",
      "metadata": {
        "id": "LXK9wIRmM-1q"
      },
      "source": [
        "# 進行 min-max normalization"
      ]
    },
    {
      "cell_type": "code",
      "execution_count": 16,
      "metadata": {
        "id": "e7kRV9bFM-1q"
      },
      "outputs": [],
      "source": [
        "x_train_norm = x_train.astype('float32')/255\n",
        "x_test_norm = x_test.astype('float32')/255"
      ]
    },
    {
      "cell_type": "code",
      "execution_count": 17,
      "metadata": {
        "id": "_siMaDFoM-1r",
        "outputId": "623edf3c-f9c6-4173-98aa-3df76b95a728",
        "colab": {
          "base_uri": "https://localhost:8080/"
        }
      },
      "outputs": [
        {
          "output_type": "stream",
          "name": "stdout",
          "text": [
            "[0.8039216 0.8039216 0.8039216]\n"
          ]
        }
      ],
      "source": [
        "print(x_train_norm[0][0][0])"
      ]
    },
    {
      "cell_type": "markdown",
      "metadata": {
        "id": "BDPB1ilLM-1r"
      },
      "source": [
        "# 將數字標籤進行 One-hot 編碼"
      ]
    },
    {
      "cell_type": "code",
      "execution_count": 18,
      "metadata": {
        "id": "A1lyMUTlM-1s",
        "outputId": "927a9668-ab19-46d6-b913-0df8c85c659e",
        "colab": {
          "base_uri": "https://localhost:8080/"
        }
      },
      "outputs": [
        {
          "output_type": "stream",
          "name": "stdout",
          "text": [
            "1\n"
          ]
        }
      ],
      "source": [
        "from tensorflow.keras import utils\n",
        "\n",
        "# 轉換前\n",
        "print(y_train[0])"
      ]
    },
    {
      "cell_type": "code",
      "execution_count": 19,
      "metadata": {
        "id": "39tl8x0xM-1s",
        "outputId": "d72cff62-6b6c-48ee-fb1e-350e1157a85f",
        "colab": {
          "base_uri": "https://localhost:8080/"
        }
      },
      "outputs": [
        {
          "output_type": "stream",
          "name": "stdout",
          "text": [
            "[0. 1. 0. 0. 0. 0.]\n"
          ]
        }
      ],
      "source": [
        "# 進行 One-hot 編碼轉換...\n",
        "y_train_onehot = utils.to_categorical(y_train, 6)\n",
        "y_test_onehot = utils.to_categorical(y_test, 6)\n",
        "# 轉換後\n",
        "print(y_train_onehot[0])"
      ]
    },
    {
      "cell_type": "markdown",
      "metadata": {
        "id": "pfW6y-JKM-1s"
      },
      "source": [
        "# 建立 CNN 神經網路架構"
      ]
    },
    {
      "cell_type": "code",
      "execution_count": 20,
      "metadata": {
        "id": "MboVMaIsM-1t"
      },
      "outputs": [],
      "source": [
        "import tensorflow as tf\n",
        "import keras\n",
        "from tensorflow.keras.models import Sequential\n",
        "from tensorflow.keras.layers import Dense, Dropout, Flatten\n",
        "from tensorflow.keras.layers import Conv2D, MaxPooling2D\n",
        "\n",
        "import tensorflow.keras.applications as tensorflow_model"
      ]
    },
    {
      "cell_type": "code",
      "source": [
        "#請輸入參數\n",
        "vgg16 = tensorflow_model.VGG16(\n",
        "    include_top=False, \n",
        "    weights='imagenet',\n",
        "    input_shape=(224, 224, 3),\n",
        "    pooling='max', classifier_activation='softmax') "
      ],
      "metadata": {
        "id": "l44eTATsCv-b"
      },
      "execution_count": 21,
      "outputs": []
    },
    {
      "cell_type": "code",
      "source": [
        "#修改全聯階層的輸出類別數\n",
        "#請輸入程式碼\n",
        "num_classes = 6\n",
        "x = vgg16.layers[-1].output\n",
        "x = Flatten(name='Flatten')(x)\n",
        "x = Dropout(0.5)(x)\n",
        "x = Dense(num_classes, activation='softmax', name='predictions')(x)\n",
        "\n",
        "# Create your own model \n",
        "cnn = keras.models.Model(inputs = vgg16.input, outputs=x) \n",
        "cnn.summary()"
      ],
      "metadata": {
        "id": "EMU_thCPC4Kd",
        "colab": {
          "base_uri": "https://localhost:8080/"
        },
        "outputId": "f5319430-a4bb-4626-d1d0-4f4984fddeaf"
      },
      "execution_count": 22,
      "outputs": [
        {
          "output_type": "stream",
          "name": "stdout",
          "text": [
            "Model: \"model\"\n",
            "_________________________________________________________________\n",
            " Layer (type)                Output Shape              Param #   \n",
            "=================================================================\n",
            " input_1 (InputLayer)        [(None, 224, 224, 3)]     0         \n",
            "                                                                 \n",
            " block1_conv1 (Conv2D)       (None, 224, 224, 64)      1792      \n",
            "                                                                 \n",
            " block1_conv2 (Conv2D)       (None, 224, 224, 64)      36928     \n",
            "                                                                 \n",
            " block1_pool (MaxPooling2D)  (None, 112, 112, 64)      0         \n",
            "                                                                 \n",
            " block2_conv1 (Conv2D)       (None, 112, 112, 128)     73856     \n",
            "                                                                 \n",
            " block2_conv2 (Conv2D)       (None, 112, 112, 128)     147584    \n",
            "                                                                 \n",
            " block2_pool (MaxPooling2D)  (None, 56, 56, 128)       0         \n",
            "                                                                 \n",
            " block3_conv1 (Conv2D)       (None, 56, 56, 256)       295168    \n",
            "                                                                 \n",
            " block3_conv2 (Conv2D)       (None, 56, 56, 256)       590080    \n",
            "                                                                 \n",
            " block3_conv3 (Conv2D)       (None, 56, 56, 256)       590080    \n",
            "                                                                 \n",
            " block3_pool (MaxPooling2D)  (None, 28, 28, 256)       0         \n",
            "                                                                 \n",
            " block4_conv1 (Conv2D)       (None, 28, 28, 512)       1180160   \n",
            "                                                                 \n",
            " block4_conv2 (Conv2D)       (None, 28, 28, 512)       2359808   \n",
            "                                                                 \n",
            " block4_conv3 (Conv2D)       (None, 28, 28, 512)       2359808   \n",
            "                                                                 \n",
            " block4_pool (MaxPooling2D)  (None, 14, 14, 512)       0         \n",
            "                                                                 \n",
            " block5_conv1 (Conv2D)       (None, 14, 14, 512)       2359808   \n",
            "                                                                 \n",
            " block5_conv2 (Conv2D)       (None, 14, 14, 512)       2359808   \n",
            "                                                                 \n",
            " block5_conv3 (Conv2D)       (None, 14, 14, 512)       2359808   \n",
            "                                                                 \n",
            " block5_pool (MaxPooling2D)  (None, 7, 7, 512)         0         \n",
            "                                                                 \n",
            " global_max_pooling2d (Globa  (None, 512)              0         \n",
            " lMaxPooling2D)                                                  \n",
            "                                                                 \n",
            " Flatten (Flatten)           (None, 512)               0         \n",
            "                                                                 \n",
            " dropout (Dropout)           (None, 512)               0         \n",
            "                                                                 \n",
            " predictions (Dense)         (None, 6)                 3078      \n",
            "                                                                 \n",
            "=================================================================\n",
            "Total params: 14,717,766\n",
            "Trainable params: 14,717,766\n",
            "Non-trainable params: 0\n",
            "_________________________________________________________________\n"
          ]
        }
      ]
    },
    {
      "cell_type": "code",
      "execution_count": 23,
      "metadata": {
        "id": "odJSen4oM-1t"
      },
      "outputs": [],
      "source": [
        "# 神經網路的訓練配置 #\n",
        "adam = tf.optimizers.Adam(0.0001)\n",
        "cnn.compile(optimizer = adam,loss = 'categorical_crossentropy', metrics = ['acc'])"
      ]
    },
    {
      "cell_type": "code",
      "execution_count": 25,
      "metadata": {
        "id": "hR6k-LaQM-1u",
        "colab": {
          "base_uri": "https://localhost:8080/"
        },
        "outputId": "82bd8ba9-3e69-4775-9f6c-a3bfe548c450"
      },
      "outputs": [
        {
          "output_type": "stream",
          "name": "stdout",
          "text": [
            "Epoch 1/20\n",
            "105/105 [==============================] - 52s 484ms/step - loss: 0.8986 - acc: 0.6786 - val_loss: 0.6524 - val_acc: 0.7071\n",
            "Epoch 2/20\n",
            "105/105 [==============================] - 49s 463ms/step - loss: 0.6076 - acc: 0.7643 - val_loss: 0.4157 - val_acc: 0.8464\n",
            "Epoch 3/20\n",
            "105/105 [==============================] - 49s 471ms/step - loss: 0.4858 - acc: 0.8241 - val_loss: 0.3187 - val_acc: 0.8833\n",
            "Epoch 4/20\n",
            "105/105 [==============================] - 50s 478ms/step - loss: 0.4067 - acc: 0.8506 - val_loss: 0.2703 - val_acc: 0.8940\n",
            "Epoch 5/20\n",
            "105/105 [==============================] - 51s 486ms/step - loss: 0.3507 - acc: 0.8676 - val_loss: 0.3064 - val_acc: 0.8929\n",
            "Epoch 6/20\n",
            "105/105 [==============================] - 51s 488ms/step - loss: 0.3386 - acc: 0.8789 - val_loss: 0.2544 - val_acc: 0.9190\n",
            "Epoch 7/20\n",
            "105/105 [==============================] - 51s 487ms/step - loss: 0.2892 - acc: 0.8961 - val_loss: 0.2126 - val_acc: 0.9250\n",
            "Epoch 8/20\n",
            "105/105 [==============================] - 51s 486ms/step - loss: 0.3148 - acc: 0.8818 - val_loss: 0.2874 - val_acc: 0.8774\n",
            "Epoch 9/20\n",
            "105/105 [==============================] - 51s 487ms/step - loss: 0.2624 - acc: 0.9048 - val_loss: 0.2620 - val_acc: 0.9048\n",
            "Epoch 10/20\n",
            "105/105 [==============================] - 51s 487ms/step - loss: 0.2369 - acc: 0.9125 - val_loss: 0.2042 - val_acc: 0.9274\n",
            "Epoch 11/20\n",
            "105/105 [==============================] - 51s 486ms/step - loss: 0.2369 - acc: 0.9101 - val_loss: 0.1462 - val_acc: 0.9631\n",
            "Epoch 12/20\n",
            "105/105 [==============================] - 51s 486ms/step - loss: 0.2248 - acc: 0.9137 - val_loss: 0.2076 - val_acc: 0.9179\n",
            "Epoch 13/20\n",
            "105/105 [==============================] - 51s 486ms/step - loss: 0.1865 - acc: 0.9310 - val_loss: 0.3851 - val_acc: 0.8381\n",
            "Epoch 14/20\n",
            "105/105 [==============================] - 51s 485ms/step - loss: 0.2182 - acc: 0.9217 - val_loss: 0.1483 - val_acc: 0.9607\n",
            "Epoch 15/20\n",
            "105/105 [==============================] - 51s 486ms/step - loss: 0.2411 - acc: 0.9131 - val_loss: 0.2503 - val_acc: 0.9071\n",
            "Epoch 16/20\n",
            "105/105 [==============================] - 51s 485ms/step - loss: 0.1658 - acc: 0.9455 - val_loss: 0.1401 - val_acc: 0.9500\n",
            "Epoch 17/20\n",
            "105/105 [==============================] - 51s 485ms/step - loss: 0.1598 - acc: 0.9452 - val_loss: 0.1910 - val_acc: 0.9357\n",
            "Epoch 18/20\n",
            "105/105 [==============================] - 51s 485ms/step - loss: 0.1510 - acc: 0.9429 - val_loss: 0.1703 - val_acc: 0.9405\n",
            "Epoch 19/20\n",
            "105/105 [==============================] - 51s 484ms/step - loss: 0.1851 - acc: 0.9336 - val_loss: 0.1747 - val_acc: 0.9476\n",
            "Epoch 20/20\n",
            "105/105 [==============================] - 51s 485ms/step - loss: 0.1490 - acc: 0.9423 - val_loss: 0.1118 - val_acc: 0.9714\n"
          ]
        }
      ],
      "source": [
        "# 進行訓練 #\n",
        "history = cnn.fit(x=x_train_norm,y=y_train_onehot,batch_size=32,epochs=20,validation_split=0.2)"
      ]
    },
    {
      "cell_type": "code",
      "source": [
        "import matplotlib.pyplot as plt\n",
        "def show_train_history(train_history, train, validation, label):\n",
        "    plt.plot(train_history.history[train])\n",
        "    plt.plot(train_history.history[validation])\n",
        "    plt.title('Train History')\n",
        "    plt.xlabel('Epoch')\n",
        "    plt.ylabel(label)\n",
        "    plt.legend(['Train', 'validation'], loc='upper left')\n",
        "    plt.show()"
      ],
      "metadata": {
        "id": "3PwUQWQWet04"
      },
      "execution_count": 26,
      "outputs": []
    },
    {
      "cell_type": "code",
      "source": [
        "show_train_history(history, 'acc', 'val_acc', 'accuracy')\n",
        "show_train_history(history, 'loss', 'val_loss', 'loss')"
      ],
      "metadata": {
        "colab": {
          "base_uri": "https://localhost:8080/",
          "height": 573
        },
        "id": "M5kiBexCeprj",
        "outputId": "b2b73912-e974-4751-b918-61922a19090d"
      },
      "execution_count": 27,
      "outputs": [
        {
          "output_type": "display_data",
          "data": {
            "text/plain": [
              "<Figure size 432x288 with 1 Axes>"
            ],
            "image/png": "[encoded data removed]"
          },
          "metadata": {
            "needs_background": "light"
          }
        },
        {
          "output_type": "display_data",
          "data": {
            "text/plain": [
              "<Figure size 432x288 with 1 Axes>"
            ],
            "image/png": "[encoded data removed]"
          },
          "metadata": {
            "needs_background": "light"
          }
        }
      ]
    },
    {
      "cell_type": "markdown",
      "metadata": {
        "id": "TRapjPyyM-1v"
      },
      "source": [
        "# 使用測試資料評估神經網路"
      ]
    },
    {
      "cell_type": "code",
      "execution_count": 28,
      "metadata": {
        "id": "b4UTLfiwM-1v",
        "outputId": "f832892d-3767-4616-9d46-404636947c32",
        "colab": {
          "base_uri": "https://localhost:8080/"
        }
      },
      "outputs": [
        {
          "output_type": "stream",
          "name": "stdout",
          "text": [
            "4/4 [==============================] - 3s 864ms/step - loss: 0.1483 - acc: 0.9417\n",
            "測試資料損失值: 0.14829175174236298\n",
            "測試資料準確度: 0.9416666626930237\n"
          ]
        }
      ],
      "source": [
        "# evaluate\n",
        "test_loss,test_val = cnn.evaluate(x_test_norm,y_test_onehot)\n",
        "print('測試資料損失值:', test_loss)\n",
        "print('測試資料準確度:', test_val)"
      ]
    },
    {
      "cell_type": "code",
      "execution_count": null,
      "metadata": {
        "id": "7mpNoKpnM-1w",
        "outputId": "235ffa84-2bcb-4b33-d21f-5219d310cbf1",
        "colab": {
          "base_uri": "https://localhost:8080/"
        }
      },
      "outputs": [
        {
          "output_type": "stream",
          "name": "stdout",
          "text": [
            "第一筆測試資料的預測機率 [5.3620076e-01 9.1038318e-03 3.1686342e-01 1.3646436e-01 1.3534890e-03\n",
            " 1.4220403e-05]\n"
          ]
        }
      ],
      "source": [
        "# predict\n",
        "predict_prop = cnn.predict(x_test_norm)\n",
        "print('第一筆測試資料的預測機率', predict_prop[0])"
      ]
    },
    {
      "cell_type": "markdown",
      "source": [
        "# 將模型轉換成ONNX"
      ],
      "metadata": {
        "id": "Y7i6m-aKdSHx"
      }
    },
    {
      "cell_type": "code",
      "execution_count": null,
      "metadata": {
        "id": "y-4yYwb5M-1w"
      },
      "outputs": [],
      "source": [
        "#安裝套件 tf2onnx\n",
        "!pip install tf-estimator-nightly==2.8.0.dev2021122109 #colab環境缺少此套件 需安裝此套件才能完整安裝tf2onnx\n",
        "!pip install git+https://github.com/onnx/tensorflow-onnx"
      ]
    },
    {
      "cell_type": "code",
      "source": [
        "#進行轉換\n",
        "import tf2onnx\n",
        "#請輸入程式碼\n"
      ],
      "metadata": {
        "id": "ukiBmYSidYTq"
      },
      "execution_count": null,
      "outputs": []
    },
    {
      "cell_type": "code",
      "source": [
        "#檢查opset版本\n",
        "#請輸入程式碼\n"
      ],
      "metadata": {
        "id": "qeswaFVL9-k8"
      },
      "execution_count": null,
      "outputs": []
    },
    {
      "cell_type": "code",
      "source": [
        "#由於耐能的量化過程只支持opset ai.onnx 所以移除ai.onnx.ml並儲存\n",
        "#請輸入程式碼\n"
      ],
      "metadata": {
        "id": "PcF2yprX9_gv"
      },
      "execution_count": null,
      "outputs": []
    }
  ],
  "metadata": {
    "kernelspec": {
      "display_name": "Python 3 (ipykernel)",
      "language": "python",
      "name": "python3"
    },
    "language_info": {
      "codemirror_mode": {
        "name": "ipython",
        "version": 3
      },
      "file_extension": ".py",
      "mimetype": "text/x-python",
      "name": "python",
      "nbconvert_exporter": "python",
      "pygments_lexer": "ipython3",
      "version": "3.8.5"
    },
    "colab": {
      "name": "Copy of Edge AI Lab-AOI-ToStudents.ipynb",
      "provenance": [],
      "machine_shape": "hm",
      "collapsed_sections": []
    },
    "accelerator": "GPU"
  },
  "nbformat": 4,
  "nbformat_minor": 0
}